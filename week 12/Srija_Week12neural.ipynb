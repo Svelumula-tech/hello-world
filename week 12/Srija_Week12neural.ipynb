{
  "nbformat": 4,
  "nbformat_minor": 0,
  "metadata": {
    "colab": {
      "provenance": []
    },
    "kernelspec": {
      "name": "python3",
      "display_name": "Python 3"
    },
    "language_info": {
      "name": "python"
    }
  },
  "cells": [
    {
      "cell_type": "code",
      "source": [
        "import pandas as pd\n",
        "import numpy as np\n",
        "from sklearn.model_selection import train_test_split\n",
        "from sklearn.preprocessing import StandardScaler\n",
        "from tensorflow.keras.models import Sequential\n",
        "from tensorflow.keras.layers import Dense\n",
        "from tensorflow.keras.optimizers import Adam\n",
        "import time\n",
        "\n",
        "# Load and prepare data\n",
        "patient_df = pd.read_csv(\"primepatient_dataset.csv\")\n",
        "X = patient_df.drop('outcome', axis=1).values\n",
        "y = patient_df['outcome'].values\n",
        "\n",
        "# Split data into train and test sets\n",
        "X_train, X_test, y_train, y_test = train_test_split(X, y, test_size=0.2, random_state=42)\n",
        "\n",
        "# Scale features\n",
        "scaler = StandardScaler()\n",
        "X_train_scaled = scaler.fit_transform(X_train)\n",
        "X_test_scaled = scaler.transform(X_test)"
      ],
      "metadata": {
        "id": "irAFbmFmFRy1"
      },
      "execution_count": 1,
      "outputs": []
    },
    {
      "cell_type": "code",
      "execution_count": 2,
      "metadata": {
        "id": "OQYJpzyNEu4_"
      },
      "outputs": [],
      "source": [
        "# Function to create and train models\n",
        "def train_model(X_train, y_train, X_test, y_test, data_size, hidden_layers, nodes_per_layer):\n",
        "    # Limit data size\n",
        "    X_train_subset = X_train[:data_size]\n",
        "    y_train_subset = y_train[:data_size]\n",
        "\n",
        "    # Create model\n",
        "    model = Sequential()\n",
        "\n",
        "    # Input layer\n",
        "    model.add(Dense(nodes_per_layer, activation='relu', input_shape=(X_train.shape[1],)))\n",
        "\n",
        "    # Hidden layers\n",
        "    for _ in range(hidden_layers - 1):\n",
        "        model.add(Dense(nodes_per_layer, activation='relu'))\n",
        "\n",
        "    # Output layer\n",
        "    model.add(Dense(1, activation='sigmoid'))\n",
        "\n",
        "    # Compile model\n",
        "    model.compile(optimizer=Adam(learning_rate=0.001),\n",
        "                 loss='binary_crossentropy',\n",
        "                 metrics=['accuracy'])\n",
        "\n",
        "    # Train model and measure time\n",
        "    start_time = time.time()\n",
        "\n",
        "    history = model.fit(X_train_subset, y_train_subset,\n",
        "                       epochs=100,\n",
        "                       batch_size=32,\n",
        "                       verbose=0,\n",
        "                       validation_split=0.2)\n",
        "\n",
        "    end_time = time.time()\n",
        "    execution_time = end_time - start_time\n",
        "\n",
        "    # Get final training and validation errors\n",
        "    train_loss = history.history['loss'][-1]\n",
        "    val_loss = history.history['val_loss'][-1]\n",
        "\n",
        "    return train_loss, val_loss, execution_time"
      ]
    },
    {
      "cell_type": "code",
      "source": [
        "# Run experiments\n",
        "results = []\n",
        "configurations = [\n",
        "    (1000, 1, 4),\n",
        "    (10000, 1, 4),\n",
        "    (100000, 1, 4),\n",
        "    (1000, 2, 4),\n",
        "    (10000, 2, 4),\n",
        "    (100000, 2, 4)\n",
        "]\n",
        "\n",
        "for data_size, hidden_layers, nodes in configurations:\n",
        "    # Handle case where requested data size is larger than available data\n",
        "    actual_size = min(data_size, len(X_train_scaled))\n",
        "\n",
        "    train_loss, val_loss, exec_time = train_model(\n",
        "        X_train_scaled, y_train, X_test_scaled, y_test,\n",
        "        actual_size, hidden_layers, nodes\n",
        "    )\n",
        "\n",
        "    results.append({\n",
        "        'Data size': actual_size,\n",
        "        'Configuration': f'{hidden_layers} hidden layer{\"s\" if hidden_layers > 1 else \"\"} {nodes} nodes',\n",
        "        'Training error': train_loss,\n",
        "        'Validation error': val_loss,\n",
        "        'Time of execution': exec_time\n",
        "    })\n",
        "\n",
        "# Display results\n",
        "results_df = pd.DataFrame(results)\n",
        "print(results_df.to_string(index=False))"
      ],
      "metadata": {
        "colab": {
          "base_uri": "https://localhost:8080/"
        },
        "id": "yvY9mkFbFQcE",
        "outputId": "1a746b2f-8c92-434c-b0a1-39fe46ab0b04"
      },
      "execution_count": 3,
      "outputs": [
        {
          "output_type": "stream",
          "name": "stderr",
          "text": [
            "/usr/local/lib/python3.11/dist-packages/keras/src/layers/core/dense.py:87: UserWarning: Do not pass an `input_shape`/`input_dim` argument to a layer. When using Sequential models, prefer using an `Input(shape)` object as the first layer in the model instead.\n",
            "  super().__init__(activity_regularizer=activity_regularizer, **kwargs)\n"
          ]
        },
        {
          "output_type": "stream",
          "name": "stdout",
          "text": [
            " Data size           Configuration  Training error  Validation error  Time of execution\n",
            "      1000  1 hidden layer 4 nodes        0.061406          0.043239          17.512232\n",
            "     10000  1 hidden layer 4 nodes        0.008779          0.011313          54.558929\n",
            "    100000  1 hidden layer 4 nodes        0.003282          0.003973         427.563161\n",
            "      1000 2 hidden layers 4 nodes        0.027271          0.028756          14.162219\n",
            "     10000 2 hidden layers 4 nodes        0.004131          0.008034          56.262301\n",
            "    100000 2 hidden layers 4 nodes        0.003221          0.003501         454.291734\n"
          ]
        }
      ]
    }
  ]
}