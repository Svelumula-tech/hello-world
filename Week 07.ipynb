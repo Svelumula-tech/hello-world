{
 "cells": [
  {
   "cell_type": "markdown",
   "metadata": {
    "application/vnd.databricks.v1+cell": {
     "cellMetadata": {},
     "inputWidgets": {},
     "nuid": "96816ed7-b08a-4ca3-abb9-f99880c3535d",
     "showTitle": false,
     "tableResultSettingsMap": {},
     "title": ""
    }
   },
   "source": [
    "\n",
    "## Week 07 - Spark Application\n",
    "\n",
    "Every year, CMS publishes complete datasets that consolidate the information submitted by reporting entities for active years of Open Payments data. Use \n",
    "\n",
    "Download the 2023 Open Payments file (https://download.cms.gov/openpayments/PGYR2023_P01302025_01212025.zipLinks to an external site.) and upload it to your Databricks cluster. \n",
    "\n",
    "Download the Covered Recipient File (https://download.cms.gov/openpayments/PHPRFL_P01302025_01212025.zipLinks to an external site.) and upload it to your Databricks cluster.\n",
    "\n",
    "Use PySpark to perform the analyses specified below on the 2023 files."
   ]
  },
  {
   "cell_type": "code",
   "execution_count": 0,
   "metadata": {
    "application/vnd.databricks.v1+cell": {
     "cellMetadata": {
      "byteLimit": 2048000,
      "rowLimit": 10000
     },
     "inputWidgets": {},
     "nuid": "e2711fd2-ffdd-420c-bd18-8f42ef8effc6",
     "showTitle": false,
     "tableResultSettingsMap": {},
     "title": ""
    }
   },
   "outputs": [],
   "source": [
    "import zipfile\n",
    "import os\n"
   ]
  },
  {
   "cell_type": "code",
   "execution_count": 0,
   "metadata": {
    "application/vnd.databricks.v1+cell": {
     "cellMetadata": {},
     "inputWidgets": {},
     "nuid": "bd82bb99-1479-4d5c-be10-8c36df0f1d44",
     "showTitle": false,
     "tableResultSettingsMap": {},
     "title": ""
    }
   },
   "outputs": [
    {
     "output_type": "display_data",
     "data": {
      "text/html": [
       "<style scoped>\n",
       "  .ansiout {\n",
       "    display: block;\n",
       "    unicode-bidi: embed;\n",
       "    white-space: pre-wrap;\n",
       "    word-wrap: break-word;\n",
       "    word-break: break-all;\n",
       "    font-family: \"Menlo\", \"Monaco\", \"Consolas\", \"Ubuntu Mono\", \"Source Code Pro\", monospace;\n",
       "    font-size: 13px;\n",
       "    color: #555;\n",
       "    margin-left: 4px;\n",
       "    line-height: 19px;\n",
       "  }\n",
       "</style>"
      ]
     },
     "metadata": {
      "application/vnd.databricks.v1+output": {
       "arguments": {},
       "data": "",
       "errorSummary": "",
       "errorTraceType": null,
       "metadata": {},
       "type": "ipynbError"
      }
     },
     "output_type": "display_data"
    }
   ],
   "source": [
    "# Create a view or table\n",
    "\n",
    "#temp_table_name = \"PGYR2023_P01302025_01212025_zip\"\n",
    "\n",
    "#df.createOrReplaceTempView(temp_table_name)"
   ]
  },
  {
   "cell_type": "code",
   "execution_count": 0,
   "metadata": {
    "application/vnd.databricks.v1+cell": {
     "cellMetadata": {
      "byteLimit": 2048000,
      "rowLimit": 10000
     },
     "inputWidgets": {},
     "nuid": "4324e4b2-3652-4153-8e78-ab99315419c9",
     "showTitle": false,
     "tableResultSettingsMap": {},
     "title": ""
    }
   },
   "outputs": [
    {
     "output_type": "stream",
     "name": "stdout",
     "output_type": "stream",
     "text": [
      "unzip:  cannot find or open /tmp/PGYR2023_P01302025_01212025.zip, /tmp/PGYR2023_P01302025_01212025.zip.zip or /tmp/PGYR2023_P01302025_01212025.zip.ZIP.\nunzip:  cannot find or open /tmp/PHPRFL_P01302025_01212025.zip, /tmp/PHPRFL_P01302025_01212025.zip.zip or /tmp/PHPRFL_P01302025_01212025.zip.ZIP.\n"
     ]
    }
   ],
   "source": [
    "%sh\n",
    "unzip /tmp/PGYR2023_P01302025_01212025.zip -d /dbfs/FileStore/tables/PGYR2023_P01302025_01212025/\n",
    "\n",
    "unzip /tmp/PHPRFL_P01302025_01212025.zip -d /dbfs/FileStore/tables/PHPRFL_P01302025_01212025/"
   ]
  },
  {
   "cell_type": "code",
   "execution_count": 0,
   "metadata": {
    "application/vnd.databricks.v1+cell": {
     "cellMetadata": {
      "byteLimit": 2048000,
      "rowLimit": 10000
     },
     "inputWidgets": {},
     "nuid": "ebc7662c-0987-447e-888c-c09bb8cb44e8",
     "showTitle": false,
     "tableResultSettingsMap": {},
     "title": ""
    }
   },
   "outputs": [
    {
     "output_type": "stream",
     "name": "stdout",
     "output_type": "stream",
     "text": [
      "Out[12]: True"
     ]
    }
   ],
   "source": [
    "# Copy the ZIP files from DBFS to the local file system (driver node)\n",
    "dbutils.fs.cp(\"dbfs:/FileStore/tables/PGYR2023_P01302025_01212025.zip\", \"file:/tmp/PGYR2023_P01302025_01212025.zip\")\n",
    "dbutils.fs.cp(\"dbfs:/FileStore/tables/PHPRFL_P01302025_01212025.zip\", \"file:/tmp/PHPRFL_P01302025_01212025.zip\")\n"
   ]
  },
  {
   "cell_type": "code",
   "execution_count": 0,
   "metadata": {
    "application/vnd.databricks.v1+cell": {
     "cellMetadata": {
      "byteLimit": 2048000,
      "rowLimit": 10000
     },
     "inputWidgets": {},
     "nuid": "2b11c457-039e-4831-b3c9-192410c43e9d",
     "showTitle": false,
     "tableResultSettingsMap": {},
     "title": ""
    }
   },
   "outputs": [
    {
     "output_type": "stream",
     "name": "stdout",
     "output_type": "stream",
     "text": [
      "Unzipping completed.\n"
     ]
    }
   ],
   "source": [
    "# Define paths for the zip files and extraction folders\n",
    "zip_file1 = '/dbfs/FileStore/tables/PGYR2023_P01302025_01212025.zip'\n",
    "zip_file2 = '/dbfs/FileStore/tables/PHPRFL_P01302025_01212025.zip'\n",
    "extract_dir1 = '/tmp/PGYR2023_P01302025_01212025'\n",
    "extract_dir2 = '/tmp/PHPRFL_P01302025_01212025'\n",
    "\n",
    "# Unzip the first file\n",
    "with zipfile.ZipFile(\"/tmp/PGYR2023_P01302025_01212025.zip\", 'r') as zip_ref:\n",
    "    zip_ref.extractall(extract_dir1)\n",
    "\n",
    "# Unzip the second file\n",
    "with zipfile.ZipFile(\"/tmp/PHPRFL_P01302025_01212025.zip\", 'r') as zip_ref:\n",
    "    zip_ref.extractall(extract_dir2)\n",
    "\n",
    "print(\"Unzipping completed.\")\n"
   ]
  },
  {
   "cell_type": "code",
   "execution_count": 0,
   "metadata": {
    "application/vnd.databricks.v1+cell": {
     "cellMetadata": {
      "byteLimit": 2048000,
      "rowLimit": 10000
     },
     "inputWidgets": {},
     "nuid": "8e727cde-4921-4313-863d-43861111ba12",
     "showTitle": false,
     "tableResultSettingsMap": {},
     "title": ""
    }
   },
   "outputs": [
    {
     "output_type": "stream",
     "name": "stdout",
     "output_type": "stream",
     "text": [
      "OP_DTL_GNRL_PGYR2023_P01302025_01212025.csv\nOP_DTL_OWNRSHP_PGYR2023_P01302025_01212025.csv\nOP_DTL_RSRCH_PGYR2023_P01302025_01212025.csv\nOP_PGYR2023_README_P01302025.txt\nOP_REMOVED_DELETED_PGYR2023_P01302025_01212025.csv\n"
     ]
    }
   ],
   "source": [
    "%sh\n",
    "ls /tmp/PGYR2023_P01302025_01212025\n"
   ]
  },
  {
   "cell_type": "code",
   "execution_count": 0,
   "metadata": {
    "application/vnd.databricks.v1+cell": {
     "cellMetadata": {
      "byteLimit": 2048000,
      "rowLimit": 10000
     },
     "inputWidgets": {},
     "nuid": "0c67b126-622a-453a-a995-b94fe8ac687d",
     "showTitle": false,
     "tableResultSettingsMap": {},
     "title": ""
    }
   },
   "outputs": [
    {
     "output_type": "stream",
     "name": "stdout",
     "output_type": "stream",
     "text": [
      "OP_CVRD_RCPNT_PRFL_SPLMTL_P01302025_01212025.csv\nOP_CVRD_RCPNT_PRFL_SPLMTL_README_P01302025.txt\n"
     ]
    }
   ],
   "source": [
    "%sh\n",
    "ls /tmp/PHPRFL_P01302025_01212025\n"
   ]
  },
  {
   "cell_type": "code",
   "execution_count": 0,
   "metadata": {
    "application/vnd.databricks.v1+cell": {
     "cellMetadata": {
      "byteLimit": 2048000,
      "rowLimit": 10000
     },
     "inputWidgets": {},
     "nuid": "167d588f-b8a6-4705-9d13-58481f7fe1d6",
     "showTitle": false,
     "tableResultSettingsMap": {},
     "title": ""
    }
   },
   "outputs": [
    {
     "output_type": "stream",
     "name": "stdout",
     "output_type": "stream",
     "text": [
      "True\n+-----------+----------------------+---------------------+--------------------+----------------------+----------------------------+---------------------+----------------------------+-----------------------------+---------------------------+-----------------------------+-----------------------------------------------+-----------------------------------------------+---------------+---------------+------------------+-----------------+------------------+---------------------+--------------------------------+--------------------------------+--------------------------------+--------------------------------+--------------------------------+--------------------------------+-----------------------------+-----------------------------+-----------------------------+-----------------------------+-----------------------------+-----------------------------+-------------------------------------+-------------------------------------+-------------------------------------+-------------------------------------+-------------------------------------+---------------------------------------------------------+-----------------------------------------------------------+-------------------------------------------------------------+--------------------------------------------------------------+----------------------------------------------------------------+---------------------------------+---------------+-------------------------------------------+------------------------------------+--------------------------------------+--------------+---------------+-----------------+-----------------------------+---------------------------------------+-----------------------------------------------------------------+-----------------+----------------------------------------------+----------------------+------------------------------+----------+------------------------------+-------------------------+---------------------------------+---------------------------------------------------------+--------------------------------------+--------------------------------------------------------+-----------------------------------+-----------------------------------------+---------------------------------+---------------------------------------------------------+--------------------------------------+--------------------------------------------------------+-----------------------------------+-----------------------------------------+---------------------------------+---------------------------------------------------------+--------------------------------------+--------------------------------------------------------+-----------------------------------+-----------------------------------------+---------------------------------+---------------------------------------------------------+--------------------------------------+--------------------------------------------------------+-----------------------------------+-----------------------------------------+---------------------------------+---------------------------------------------------------+--------------------------------------+--------------------------------------------------------+-----------------------------------+-----------------------------------------+------------+------------------------+\n|Change_Type|Covered_Recipient_Type|Teaching_Hospital_CCN|Teaching_Hospital_ID|Teaching_Hospital_Name|Covered_Recipient_Profile_ID|Covered_Recipient_NPI|Covered_Recipient_First_Name|Covered_Recipient_Middle_Name|Covered_Recipient_Last_Name|Covered_Recipient_Name_Suffix|Recipient_Primary_Business_Street_Address_Line1|Recipient_Primary_Business_Street_Address_Line2| Recipient_City|Recipient_State|Recipient_Zip_Code|Recipient_Country|Recipient_Province|Recipient_Postal_Code|Covered_Recipient_Primary_Type_1|Covered_Recipient_Primary_Type_2|Covered_Recipient_Primary_Type_3|Covered_Recipient_Primary_Type_4|Covered_Recipient_Primary_Type_5|Covered_Recipient_Primary_Type_6|Covered_Recipient_Specialty_1|Covered_Recipient_Specialty_2|Covered_Recipient_Specialty_3|Covered_Recipient_Specialty_4|Covered_Recipient_Specialty_5|Covered_Recipient_Specialty_6|Covered_Recipient_License_State_code1|Covered_Recipient_License_State_code2|Covered_Recipient_License_State_code3|Covered_Recipient_License_State_code4|Covered_Recipient_License_State_code5|Submitting_Applicable_Manufacturer_or_Applicable_GPO_Name|Applicable_Manufacturer_or_Applicable_GPO_Making_Payment_ID|Applicable_Manufacturer_or_Applicable_GPO_Making_Payment_Name|Applicable_Manufacturer_or_Applicable_GPO_Making_Payment_State|Applicable_Manufacturer_or_Applicable_GPO_Making_Payment_Country|Total_Amount_of_Payment_USDollars|Date_of_Payment|Number_of_Payments_Included_in_Total_Amount|Form_of_Payment_or_Transfer_of_Value|Nature_of_Payment_or_Transfer_of_Value|City_of_Travel|State_of_Travel|Country_of_Travel|Physician_Ownership_Indicator|Third_Party_Payment_Recipient_Indicator|Name_of_Third_Party_Entity_Receiving_Payment_or_Transfer_of_Value|Charity_Indicator|Third_Party_Equals_Covered_Recipient_Indicator|Contextual_Information|Delay_in_Publication_Indicator| Record_ID|Dispute_Status_for_Publication|Related_Product_Indicator|Covered_or_Noncovered_Indicator_1|Indicate_Drug_or_Biological_or_Device_or_Medical_Supply_1|Product_Category_or_Therapeutic_Area_1|Name_of_Drug_or_Biological_or_Device_or_Medical_Supply_1|Associated_Drug_or_Biological_NDC_1|Associated_Device_or_Medical_Supply_PDI_1|Covered_or_Noncovered_Indicator_2|Indicate_Drug_or_Biological_or_Device_or_Medical_Supply_2|Product_Category_or_Therapeutic_Area_2|Name_of_Drug_or_Biological_or_Device_or_Medical_Supply_2|Associated_Drug_or_Biological_NDC_2|Associated_Device_or_Medical_Supply_PDI_2|Covered_or_Noncovered_Indicator_3|Indicate_Drug_or_Biological_or_Device_or_Medical_Supply_3|Product_Category_or_Therapeutic_Area_3|Name_of_Drug_or_Biological_or_Device_or_Medical_Supply_3|Associated_Drug_or_Biological_NDC_3|Associated_Device_or_Medical_Supply_PDI_3|Covered_or_Noncovered_Indicator_4|Indicate_Drug_or_Biological_or_Device_or_Medical_Supply_4|Product_Category_or_Therapeutic_Area_4|Name_of_Drug_or_Biological_or_Device_or_Medical_Supply_4|Associated_Drug_or_Biological_NDC_4|Associated_Device_or_Medical_Supply_PDI_4|Covered_or_Noncovered_Indicator_5|Indicate_Drug_or_Biological_or_Device_or_Medical_Supply_5|Product_Category_or_Therapeutic_Area_5|Name_of_Drug_or_Biological_or_Device_or_Medical_Supply_5|Associated_Drug_or_Biological_NDC_5|Associated_Device_or_Medical_Supply_PDI_5|Program_Year|Payment_Publication_Date|\n+-----------+----------------------+---------------------+--------------------+----------------------+----------------------------+---------------------+----------------------------+-----------------------------+---------------------------+-----------------------------+-----------------------------------------------+-----------------------------------------------+---------------+---------------+------------------+-----------------+------------------+---------------------+--------------------------------+--------------------------------+--------------------------------+--------------------------------+--------------------------------+--------------------------------+-----------------------------+-----------------------------+-----------------------------+-----------------------------+-----------------------------+-----------------------------+-------------------------------------+-------------------------------------+-------------------------------------+-------------------------------------+-------------------------------------+---------------------------------------------------------+-----------------------------------------------------------+-------------------------------------------------------------+--------------------------------------------------------------+----------------------------------------------------------------+---------------------------------+---------------+-------------------------------------------+------------------------------------+--------------------------------------+--------------+---------------+-----------------+-----------------------------+---------------------------------------+-----------------------------------------------------------------+-----------------+----------------------------------------------+----------------------+------------------------------+----------+------------------------------+-------------------------+---------------------------------+---------------------------------------------------------+--------------------------------------+--------------------------------------------------------+-----------------------------------+-----------------------------------------+---------------------------------+---------------------------------------------------------+--------------------------------------+--------------------------------------------------------+-----------------------------------+-----------------------------------------+---------------------------------+---------------------------------------------------------+--------------------------------------+--------------------------------------------------------+-----------------------------------+-----------------------------------------+---------------------------------+---------------------------------------------------------+--------------------------------------+--------------------------------------------------------+-----------------------------------+-----------------------------------------+---------------------------------+---------------------------------------------------------+--------------------------------------+--------------------------------------------------------+-----------------------------------+-----------------------------------------+------------+------------------------+\n|    CHANGED|  Covered Recipient...|               220162|                9984|  Adventhealth Orlando|                        null|                 null|                        null|                         null|                       null|                         null|                               601 E Rollins St|                                           null|        Orlando|             FL|             32803|    United States|              null|                 null|                            null|                            null|                            null|                            null|                            null|                            null|                         null|                         null|                         null|                         null|                         null|                         null|                                 null|                                 null|                                 null|                                 null|                                 null|                                     Integra LifeScien...|                                               100000010950|                                         Integra LifeScien...|                                                            NJ|                                                   United States|                          2000.00|     07/20/2023|                                          1|                Cash or cash equi...|                                 Grant|          null|           null|             null|                           No|                   No Third Party Pa...|                                                             null|             null|                                          null|                  null|                            No|1031636873|                            No|                      Yes|                          Covered|                                                   Device|                   Neuro Critical Care|                                           CODMAN CERTAS|                               null|                           10381780529033|                             null|                                                     null|                                  null|                                                    null|                               null|                                     null|                             null|                                                     null|                                  null|                                                    null|                               null|                                     null|                             null|                                                     null|                                  null|                                                    null|                               null|                                     null|                             null|                                                     null|                                  null|                                                    null|                               null|                                     null|        2023|              01/30/2025|\n|    CHANGED|  Covered Recipient...|               220162|                9984|  Carle Foundation ...|                        null|                 null|                        null|                         null|                       null|                         null|                            2300 N Vermilion St|                                           null|       Danville|             IL|             61832|    United States|              null|                 null|                            null|                            null|                            null|                            null|                            null|                            null|                         null|                         null|                         null|                         null|                         null|                         null|                                 null|                                 null|                                 null|                                 null|                                 null|                                     Integra LifeScien...|                                               100000010950|                                         Integra LifeScien...|                                                            NJ|                                                   United States|                          1500.00|     11/03/2023|                                          1|                Cash or cash equi...|                                 Grant|          null|           null|             null|                           No|                   No Third Party Pa...|                                                             null|             null|                                          null|                  null|                            No|1031636879|                            No|                      Yes|                          Covered|                                                   Device|                   Neuro Critical Care|                                           CODMAN CERTAS|                               null|                           10381780529033|                             null|                                                     null|                                  null|                                                    null|                               null|                                     null|                             null|                                                     null|                                  null|                                                    null|                               null|                                     null|                             null|                                                     null|                                  null|                                                    null|                               null|                                     null|                             null|                                                     null|                                  null|                                                    null|                               null|                                     null|        2023|              01/30/2025|\n|    CHANGED|  Covered Recipient...|               220162|                9984|  St. Josephs Hospi...|                        null|                 null|                        null|                         null|                       null|                         null|                           4975 N Dysart Rd ...|                                           null|Litchfield Park|             AZ|             85340|    United States|              null|                 null|                            null|                            null|                            null|                            null|                            null|                            null|                         null|                         null|                         null|                         null|                         null|                         null|                                 null|                                 null|                                 null|                                 null|                                 null|                                     Integra LifeScien...|                                               100000010950|                                         Integra LifeScien...|                                                            NJ|                                                   United States|                          2500.00|     03/21/2023|                                          1|                Cash or cash equi...|                                 Grant|          null|           null|             null|                           No|                   No Third Party Pa...|                                                             null|             null|                                          null|                  null|                            No|1031636885|                            No|                      Yes|                          Covered|                                                   Device|                   Neuro Critical Care|                                           CODMAN CERTAS|                               null|                           10381780529033|                             null|                                                     null|                                  null|                                                    null|                               null|                                     null|                             null|                                                     null|                                  null|                                                    null|                               null|                                     null|                             null|                                                     null|                                  null|                                                    null|                               null|                                     null|                             null|                                                     null|                                  null|                                                    null|                               null|                                     null|        2023|              01/30/2025|\n|    CHANGED|  Covered Recipient...|               220162|                9984|  St. Josephs Hospi...|                        null|                 null|                        null|                         null|                       null|                         null|                           4975 N Dysart Rd ...|                                           null|Litchfield Park|             AZ|             85340|    United States|              null|                 null|                            null|                            null|                            null|                            null|                            null|                            null|                         null|                         null|                         null|                         null|                         null|                         null|                                 null|                                 null|                                 null|                                 null|                                 null|                                     Integra LifeScien...|                                               100000010950|                                         Integra LifeScien...|                                                            NJ|                                                   United States|                          3000.00|     04/14/2023|                                          1|                Cash or cash equi...|                                 Grant|          null|           null|             null|                           No|                   No Third Party Pa...|                                                             null|             null|                                          null|                  null|                            No|1031636889|                            No|                      Yes|                          Covered|                                                   Device|                   Neuro Critical Care|                                           CODMAN CERTAS|                               null|                           10381780529033|                             null|                                                     null|                                  null|                                                    null|                               null|                                     null|                             null|                                                     null|                                  null|                                                    null|                               null|                                     null|                             null|                                                     null|                                  null|                                                    null|                               null|                                     null|                             null|                                                     null|                                  null|                                                    null|                               null|                                     null|        2023|              01/30/2025|\n|    CHANGED|  Covered Recipient...|               220162|                9984|  Uc Davis Medical ...|                        null|                 null|                        null|                         null|                       null|                         null|                             2315 Stockton Blvd|                                           null|     Sacramento|             CA|             95817|    United States|              null|                 null|                            null|                            null|                            null|                            null|                            null|                            null|                         null|                         null|                         null|                         null|                         null|                         null|                                 null|                                 null|                                 null|                                 null|                                 null|                                     Integra LifeScien...|                                               100000010950|                                         Integra LifeScien...|                                                            NJ|                                                   United States|                          3921.61|     04/30/2023|                                          1|                Cash or cash equi...|                             Honoraria|          null|           null|             null|                           No|                   No Third Party Pa...|                                                             null|             null|                                          null|                  null|                            No|1031636896|                            No|                      Yes|                          Covered|                                                   Device|                   Neuro Critical Care|                                           CODMAN CERTAS|                               null|                           10381780529033|                          Covered|                                                   Device|                   Neuro Critical Care|                                            CUSA CLARITY|                               null|                           10381780126232|                             null|                                                     null|                                  null|                                                    null|                               null|                                     null|                             null|                                                     null|                                  null|                                                    null|                               null|                                     null|                             null|                                                     null|                                  null|                                                    null|                               null|                                     null|        2023|              01/30/2025|\n+-----------+----------------------+---------------------+--------------------+----------------------+----------------------------+---------------------+----------------------------+-----------------------------+---------------------------+-----------------------------+-----------------------------------------------+-----------------------------------------------+---------------+---------------+------------------+-----------------+------------------+---------------------+--------------------------------+--------------------------------+--------------------------------+--------------------------------+--------------------------------+--------------------------------+-----------------------------+-----------------------------+-----------------------------+-----------------------------+-----------------------------+-----------------------------+-------------------------------------+-------------------------------------+-------------------------------------+-------------------------------------+-------------------------------------+---------------------------------------------------------+-----------------------------------------------------------+-------------------------------------------------------------+--------------------------------------------------------------+----------------------------------------------------------------+---------------------------------+---------------+-------------------------------------------+------------------------------------+--------------------------------------+--------------+---------------+-----------------+-----------------------------+---------------------------------------+-----------------------------------------------------------------+-----------------+----------------------------------------------+----------------------+------------------------------+----------+------------------------------+-------------------------+---------------------------------+---------------------------------------------------------+--------------------------------------+--------------------------------------------------------+-----------------------------------+-----------------------------------------+---------------------------------+---------------------------------------------------------+--------------------------------------+--------------------------------------------------------+-----------------------------------+-----------------------------------------+---------------------------------+---------------------------------------------------------+--------------------------------------+--------------------------------------------------------+-----------------------------------+-----------------------------------------+---------------------------------+---------------------------------------------------------+--------------------------------------+--------------------------------------------------------+-----------------------------------+-----------------------------------------+---------------------------------+---------------------------------------------------------+--------------------------------------+--------------------------------------------------------+-----------------------------------+-----------------------------------------+------------+------------------------+\nonly showing top 5 rows\n\n+------------------------------+----------------------------+-----------------------------------------+-----------------------------------------+---------------------+------------------------------------+-------------------------------------+-----------------------------------+--------------------------------+----------------------------------------------+-----------------------------------------------+---------------------------------------------+------------------------------------------+----------------------------------------+----------------------------------------+------------------------------+-------------------------------+---------------------------------+--------------------------------------+---------------------------------------+-------------------------------------------+----------------------------------------+----------------------------------------+----------------------------------------+----------------------------------------+----------------------------------------+----------------------------------------+----------------------------------------------+----------------------------------------------+----------------------------------------------+----------------------------------------------+----------------------------------------------+\n|Covered_Recipient_Profile_Type|Covered_Recipient_Profile_ID|Associated_Covered_Recipient_Profile_ID_1|Associated_Covered_Recipient_Profile_ID_2|Covered_Recipient_NPI|Covered_Recipient_Profile_First_Name|Covered_Recipient_Profile_Middle_Name|Covered_Recipient_Profile_Last_Name|Covered_Recipient_Profile_Suffix|Covered_Recipient_Profile_Alternate_First_Name|Covered_Recipient_Profile_Alternate_Middle_Name|Covered_Recipient_Profile_Alternate_Last_Name|Covered_Recipient_Profile_Alternate_Suffix|Covered_Recipient_Profile_Address_Line_1|Covered_Recipient_Profile_Address_Line_2|Covered_Recipient_Profile_City|Covered_Recipient_Profile_State|Covered_Recipient_Profile_Zipcode|Covered_Recipient_Profile_Country_Name|Covered_Recipient_Profile_Province_Name|Covered_Recipient_Profile_Primary_Specialty|Covered_Recipient_Profile_OPS_Taxonomy_1|Covered_Recipient_Profile_OPS_Taxonomy_2|Covered_Recipient_Profile_OPS_Taxonomy_3|Covered_Recipient_Profile_OPS_Taxonomy_4|Covered_Recipient_Profile_OPS_Taxonomy_5|Covered_Recipient_Profile_OPS_Taxonomy_6|Covered_Recipient_Profile_License_State_Code_1|Covered_Recipient_Profile_License_State_Code_2|Covered_Recipient_Profile_License_State_Code_3|Covered_Recipient_Profile_License_State_Code_4|Covered_Recipient_Profile_License_State_Code_5|\n+------------------------------+----------------------------+-----------------------------------------+-----------------------------------------+---------------------+------------------------------------+-------------------------------------+-----------------------------------+--------------------------------+----------------------------------------------+-----------------------------------------------+---------------------------------------------+------------------------------------------+----------------------------------------+----------------------------------------+------------------------------+-------------------------------+---------------------------------+--------------------------------------+---------------------------------------+-------------------------------------------+----------------------------------------+----------------------------------------+----------------------------------------+----------------------------------------+----------------------------------------+----------------------------------------+----------------------------------------------+----------------------------------------------+----------------------------------------------+----------------------------------------------+----------------------------------------------+\n|          Covered Recipient...|                           1|                                     null|                                     null|           1003020595|                               BARRY|                                    D|                            SIMMONS|                            null|                                        BARRON|                                          DAVID|                                      SIMMONS|                                      null|                    847 SOUTH MILLEDG...|                                    null|                        ATHENS|                             GA|                       30605-1331|                         UNITED STATES|                                   null|                       Dental Providers|...|                              1223G0001X|                                    null|                                    null|                                    null|                                    null|                                    null|                                            GA|                                          null|                                          null|                                          null|                                          null|\n|          Covered Recipient...|                           2|                                     null|                                     null|           1003022823|                             LINDSEY|                                    R|                           SCHUSTER|                            null|                                       LINDSEY|                                              R|                                       GROBER|                                      null|                             15 HEIDI LN|                                    null|                   MOUNT SINAI|                             NY|                       11766-1428|                         UNITED STATES|                                   null|                       Allopathic & Oste...|                              207P00000X|                                    null|                                    null|                                    null|                                    null|                                    null|                                            NY|                                            PA|                                          null|                                          null|                                          null|\n|          Covered Recipient...|                           3|                                     null|                                     null|           1003023359|                              JUSTIN|                                    H|                            RACKLEY|                            null|                                        JUSTIN|                                         HAMWAY|                                      RACKLEY|                                      null|                     1001 SAM PERRY BLVD|                                    null|                FREDERICKSBURG|                             VA|                       22401-4453|                         UNITED STATES|                                   null|                       Allopathic & Oste...|                              207L00000X|                                    null|                                    null|                                    null|                                    null|                                    null|                                            VA|                                            OH|                                          null|                                          null|                                          null|\n|          Covered Recipient...|                           4|                                     null|                                     null|           1003024811|                                LISA|                                    L|                            HAMAKER|                            null|                                          null|                                           null|                                         null|                                      null|                    100 MARKET ST STE...|                                    null|                  COLLEGEVILLE|                             PA|                       19426-4927|                         UNITED STATES|                                   null|                       Allopathic & Oste...|                              207RE0101X|                                    null|                                    null|                                    null|                                    null|                                    null|                                            PA|                                          null|                                          null|                                          null|                                          null|\n|          Covered Recipient...|                           5|                                     null|                                     null|           1003025875|                             PATRICK|                                    E|                              DAVOL|                            null|                                       PATRICK|                                           ERIN|                                        DAVOL|                                      null|                    1698 E MCANDREWS ...|                                    null|                       MEDFORD|                             OR|                       97504-5590|                         UNITED STATES|                                   null|                       Allopathic & Oste...|                              208800000X|                                    null|                                    null|                                    null|                                    null|                                    null|                                            OR|                                            IN|                                          null|                                          null|                                          null|\n+------------------------------+----------------------------+-----------------------------------------+-----------------------------------------+---------------------+------------------------------------+-------------------------------------+-----------------------------------+--------------------------------+----------------------------------------------+-----------------------------------------------+---------------------------------------------+------------------------------------------+----------------------------------------+----------------------------------------+------------------------------+-------------------------------+---------------------------------+--------------------------------------+---------------------------------------+-------------------------------------------+----------------------------------------+----------------------------------------+----------------------------------------+----------------------------------------+----------------------------------------+----------------------------------------+----------------------------------------------+----------------------------------------------+----------------------------------------------+----------------------------------------------+----------------------------------------------+\nonly showing top 5 rows\n\n"
     ]
    }
   ],
   "source": [
    "# Reading the first CSV file\n",
    "import os\n",
    "print(os.path.exists(\"/tmp/PGYR2023_P01302025_01212025/OP_DTL_GNRL_PGYR2023_P01302025_01212025.csv\"))\n",
    "\n",
    "file_path1 = \"file:/tmp/PGYR2023_P01302025_01212025/OP_DTL_GNRL_PGYR2023_P01302025_01212025.csv\"\n",
    "df1 = spark.read.csv(file_path1, header=True, inferSchema=True)\n",
    "\n",
    "# Reading the second CSV file\n",
    "file_path2 = \"file:/tmp/PHPRFL_P01302025_01212025/OP_CVRD_RCPNT_PRFL_SPLMTL_P01302025_01212025.csv\"\n",
    "df2 = spark.read.csv(file_path2, header=True, inferSchema=True)\n",
    "\n",
    "# Show the first few rows of each dataframe\n",
    "df1.show(5)\n",
    "df2.show(5)\n"
   ]
  },
  {
   "cell_type": "markdown",
   "metadata": {
    "application/vnd.databricks.v1+cell": {
     "cellMetadata": {},
     "inputWidgets": {},
     "nuid": "5f4038df-8c54-4c18-9d99-a0fe50ffaacb",
     "showTitle": false,
     "tableResultSettingsMap": {},
     "title": ""
    }
   },
   "source": [
    "## Answers\n",
    "\n",
    "1. What is the Nature of Payments with reimbursement amounts greater than $1,000 ordered by count?\n",
    "\n",
    "2. What are the top ten Nature of Payments by count?\n",
    "\n",
    "3. What are the top ten Nature of Payments by total amount?\n",
    "\n",
    "4. What are the top ten physician specialties by total amount?\n",
    "\n",
    "5. Who are the top ten physicians by total amount?"
   ]
  },
  {
   "cell_type": "code",
   "execution_count": 0,
   "metadata": {
    "application/vnd.databricks.v1+cell": {
     "cellMetadata": {
      "byteLimit": 2048000,
      "rowLimit": 10000
     },
     "inputWidgets": {},
     "nuid": "2edf4114-e70a-4ed9-8ef6-05390c19627b",
     "showTitle": false,
     "tableResultSettingsMap": {},
     "title": ""
    }
   },
   "outputs": [
    {
     "output_type": "stream",
     "name": "stdout",
     "output_type": "stream",
     "text": [
      "+--------------------------------------+-------------+\n|Nature_of_Payment_or_Transfer_of_Value|payment_count|\n+--------------------------------------+-------------+\n|                  Compensation for ...|       164092|\n|                        Consulting Fee|       105228|\n|                    Travel and Lodging|        24738|\n|                             Honoraria|        13750|\n|                             Education|        13376|\n|                    Royalty or License|        11534|\n|                  Compensation for ...|         8658|\n|                                 Grant|         4922|\n|                  Space rental or f...|         4917|\n|                  Long term medical...|         2930|\n+--------------------------------------+-------------+\nonly showing top 10 rows\n\n+--------------------------------------+---------+\n|Nature_of_Payment_or_Transfer_of_Value|frequency|\n+--------------------------------------+---------+\n|                     Food and Beverage| 13378464|\n|                    Travel and Lodging|   545086|\n|                  Compensation for ...|   236628|\n|                        Consulting Fee|   170630|\n|                             Education|   161078|\n|                                  Gift|    31786|\n|                             Honoraria|    20232|\n|                    Royalty or License|    15865|\n|                  Compensation for ...|    12234|\n|                         Entertainment|     7967|\n+--------------------------------------+---------+\n\n+--------------------------------------+--------------------+\n|Nature_of_Payment_or_Transfer_of_Value|       total_dollars|\n+--------------------------------------+--------------------+\n|                    Royalty or License|     1.19217456302E9|\n|                  Compensation for ...| 5.946326876500002E8|\n|                        Consulting Fee| 5.148558758999996E8|\n|                     Food and Beverage| 3.744878240099897E8|\n|                    Travel and Lodging|1.7954842378000867E8|\n|                                 Grant|      1.1188856182E8|\n|                          Acquisitions| 7.192577675999999E7|\n|                             Education| 6.469532594000257E7|\n|                             Honoraria| 5.585182388999997E7|\n|                  Long term medical...|       3.009879195E7|\n+--------------------------------------+--------------------+\n\n+-----------------------------+--------------------+\n|Covered_Recipient_Specialty_1|       Total_Payment|\n+-----------------------------+--------------------+\n|                         null| 7.936674692299995E8|\n|         Allopathic & Oste...|4.0345021308999807E8|\n|         Allopathic & Oste...|1.3136300307000302E8|\n|         Allopathic & Oste...| 8.979213626000012E7|\n|         Allopathic & Oste...| 8.608847857000005E7|\n|         Allopathic & Oste...|  8.32026477400006E7|\n|         Allopathic & Oste...| 7.022084115000014E7|\n|         Allopathic & Oste...|  6.94689412100008E7|\n|         Allopathic & Oste...| 6.677283748999998E7|\n|         Allopathic & Oste...| 6.329825407000052E7|\n+-----------------------------+--------------------+\n\n+----------+----------+--------------------+\n|First_Name| Last_Name|total_payment_amount|\n+----------+----------+--------------------+\n|          |      null| 7.933900857900002E8|\n|   STEPHEN|  BURKHART|       3.392202493E7|\n|   WILLIAM|    BINDER|       2.943437497E7|\n|     KEVIN|     FOLEY|        1.73059378E7|\n|      IVAN|    OSORIO|       1.606551551E7|\n|    GEORGE|   MAXWELL|       1.160032024E7|\n|    ROBERT|     BOOTH|          8459167.19|\n|      NEAL|ELATTRACHE|           7810628.2|\n|     AARON| ROSENBERG|   6883627.290000001|\n|     ROGER|   JACKSON|          6615711.26|\n+----------+----------+--------------------+\n\n"
     ]
    }
   ],
   "source": [
    "from pyspark.sql import functions as F\n",
    "from pyspark.sql.window import Window\n",
    "\n",
    "# 1. Nature of Payments with reimbursement amounts greater than $1000\n",
    "high = df1.where(F.col(\"Total_Amount_of_Payment_USDollars\") > 1000)\n",
    "nat = (\n",
    "    high\n",
    "    .groupBy(\"Nature_of_Payment_or_Transfer_of_Value\")\n",
    "    .agg(F.count(\"*\").alias(\"payment_count\"))\n",
    "    .sort(F.desc(\"payment_count\"))\n",
    ")\n",
    "nat.show(10)\n",
    "\n",
    "# 2. Top 10 payment types by frequency\n",
    "topf = (\n",
    "    df1\n",
    "    .groupBy(\"Nature_of_Payment_or_Transfer_of_Value\")\n",
    "    .agg(F.count(\"*\").alias(\"frequency\"))\n",
    "    .orderBy(F.desc(\"frequency\"))\n",
    "    .limit(10)\n",
    ")\n",
    "topf.show(10)\n",
    "\n",
    "# 3. Top 10 payment types by dollar amount\n",
    "hdpp = (\n",
    "    df1\n",
    "    .groupBy(\"Nature_of_Payment_or_Transfer_of_Value\")\n",
    "    .agg(F.sum(F.col(\"Total_Amount_of_Payment_USDollars\")).alias(\"total_dollars\"))\n",
    "    .orderBy(F.desc(\"total_dollars\"))\n",
    "    .limit(10)\n",
    ")\n",
    "hdpp.show(10)\n",
    "\n",
    "# 4. Top 10 physician specialties by total payment amount\n",
    "spec_am = (\n",
    "    df1.withColumn(\"Covered_Recipient_NPI\", F.col(\"Covered_Recipient_NPI\").cast(\"string\"))\n",
    "    .join(df2.withColumn(\"Covered_Recipient_NPI\", F.col(\"Covered_Recipient_NPI\").cast(\"string\")), \n",
    "          \"Covered_Recipient_NPI\", \n",
    "          \"left\")\n",
    "    .groupby(\"Covered_Recipient_Specialty_1\")\n",
    "    .agg(F.sum(\"Total_Amount_of_Payment_USDollars\").alias(\"Total_Payment\"))\n",
    "    .orderBy(F.col(\"Total_Payment\").desc())\n",
    "    .limit(10)\n",
    ")\n",
    "\n",
    "spec_am.show(10)\n",
    "\n",
    "# 5. Top 10 physicians by total payment amount\n",
    "hppp = (\n",
    "    df1\n",
    "    .withColumn(\"full_name\", F.concat_ws(\" \", \"Covered_Recipient_First_Name\", \"Covered_Recipient_Last_Name\"))\n",
    "    .groupBy(\"full_name\")\n",
    "    .agg(F.sum(\"Total_Amount_of_Payment_USDollars\").alias(\"total_payment_amount\"))\n",
    "    .orderBy(F.desc(\"total_payment_amount\"))\n",
    "    .select(\n",
    "        F.split(\"full_name\", \" \").getItem(0).alias(\"First_Name\"),\n",
    "        F.split(\"full_name\", \" \").getItem(1).alias(\"Last_Name\"),\n",
    "        \"total_payment_amount\"\n",
    "    )\n",
    "    .limit(10)\n",
    ")\n",
    "hppp.show(10)"
   ]
  }
 ],
 "metadata": {
  "application/vnd.databricks.v1+notebook": {
   "computePreferences": null,
   "dashboards": [],
   "environmentMetadata": null,
   "language": "python",
   "notebookMetadata": {
    "mostRecentlyExecutedCommandWithImplicitDF": {
     "commandId": 3502750482528522,
     "dataframes": [
      "_sqldf"
     ]
    },
    "pythonIndentUnit": 4
   },
   "notebookName": "2025-03-24 - DBFS Example (1)",
   "widgets": {}
  }
 },
 "nbformat": 4,
 "nbformat_minor": 0
}
