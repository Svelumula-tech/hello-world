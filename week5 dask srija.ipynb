{
 "cells": [
  {
   "cell_type": "raw",
   "id": "4d4b7eea-2e22-4d12-b48b-431917bd51f4",
   "metadata": {},
   "source": [
    "Srija Velumula\n",
    "HDS 5230 - High Performance Computing\n",
    "Week 5 Dask Programming Assignment"
   ]
  },
  {
   "cell_type": "code",
   "execution_count": 1,
   "id": "38e06f3a-6f43-4ff2-b40e-fce4e109a1e9",
   "metadata": {},
   "outputs": [],
   "source": [
    "import dask.dataframe as dd\n",
    "import pandas as pd\n",
    "import numpy as np"
   ]
  },
  {
   "cell_type": "code",
   "execution_count": 2,
   "id": "c38b6ca8-fcc7-4f0f-93f1-8fb8c59a3ad9",
   "metadata": {},
   "outputs": [],
   "source": [
    "dtypes = {\n",
    "    'aggregate': 'object',\n",
    "    'cases': 'float64',\n",
    "    'city': 'object',\n",
    "    'population': 'float64',\n",
    "    'deaths': 'float64',\n",
    "    'country': 'object',\n",
    "    'level': 'object',\n",
    "    'state': 'object'\n",
    "}\n",
    "\n",
    "# Read the CSV file using Dask\n",
    "covid_df = dd.read_csv('timeseries.csv', dtype=dtypes)\n",
    "\n",
    "# Convert population and cases to float\n",
    "covid_df['population'] = covid_df['population'].astype(float)\n",
    "covid_df['cases'] = covid_df['cases'].astype(float)\n",
    "covid_df['deaths'] = covid_df['deaths'].astype(float)"
   ]
  },
  {
   "cell_type": "raw",
   "id": "d7c0af8f-5ad8-44c1-8297-a4ad4705c430",
   "metadata": {},
   "source": [
    "The use of dd.read_csv benefits greatly from parallel processing. Due to its wide range of COVID-related information spanning multiple locations and timestamps the CSV file presumed to be extensive in size. Dask effectively distributes the file read operation into different parts for multiple workers who execute simultaneous reads of distinct file sections. Reading data benefits heavily from parallelization because it qualifies as I/O-bound operation that responds well to this approach."
   ]
  },
  {
   "cell_type": "code",
   "execution_count": 3,
   "id": "7f7f57cf-989d-421d-8033-4ea0d81b7955",
   "metadata": {},
   "outputs": [
    {
     "name": "stderr",
     "output_type": "stream",
     "text": [
      "C:\\Users\\91849\\anaconda3\\Lib\\site-packages\\dask\\dataframe\\io\\csv.py:195: DtypeWarning: Columns (3) have mixed types. Specify dtype option on import or set low_memory=False.\n",
      "  df = reader(bio, **kwargs)\n"
     ]
    }
   ],
   "source": [
    "# Convert date and filter for US states and date range\n",
    "covid_df['date'] = dd.to_datetime(covid_df['date'])\n",
    "mask = (\n",
    "    (covid_df['country'] == 'United States') & \n",
    "    (covid_df['level'] == 'state') &\n",
    "    (covid_df['date'] >= '2020-01-01') & \n",
    "    (covid_df['date'] <= '2021-02-28')\n",
    ")\n",
    "us_states_df = covid_df[mask].compute()"
   ]
  },
  {
   "cell_type": "raw",
   "id": "5e9c61d0-d3ba-44d0-abb1-afdcaed30d87",
   "metadata": {},
   "source": [
    "An excellent choice for parallel execution exists within Date Conversion and Filtering (covid_df['date'] = dd.to_datetime() and mask operations) because it performs independent transformations on each data chunk. Workers need no data exchange to operate on their individual sub-sections as each performs date conversions while applying filters independently and thus it qualifies as \"embarrassingly parallel\" with minimal overhead."
   ]
  },
  {
   "cell_type": "code",
   "execution_count": 4,
   "id": "7987dd95-0b88-4e88-b6e4-553aec8c4135",
   "metadata": {},
   "outputs": [
    {
     "name": "stdout",
     "output_type": "stream",
     "text": [
      "                           state  per_capita_mortality\n",
      "50                      Virginia              0.000217\n",
      "44                  South Dakota              0.000109\n",
      "47  United States Virgin Islands              0.000048\n",
      "41                   Puerto Rico              0.000032\n",
      "11                          Guam              0.000024\n",
      "36      Northern Mariana Islands              0.000000\n",
      "0                        Alabama                   NaN\n",
      "1                         Alaska                   NaN\n",
      "2                 American Samoa                   NaN\n",
      "3                        Arizona                   NaN\n",
      "4                       Arkansas                   NaN\n",
      "5                     California                   NaN\n",
      "6                       Colorado                   NaN\n",
      "7                    Connecticut                   NaN\n",
      "8                       Delaware                   NaN\n",
      "9                        Florida                   NaN\n",
      "10                       Georgia                   NaN\n",
      "12                        Hawaii                   NaN\n",
      "13                         Idaho                   NaN\n",
      "14                      Illinois                   NaN\n",
      "15                       Indiana                   NaN\n",
      "16                          Iowa                   NaN\n",
      "17                        Kansas                   NaN\n",
      "18                      Kentucky                   NaN\n",
      "19                     Louisiana                   NaN\n",
      "20                         Maine                   NaN\n",
      "21                      Maryland                   NaN\n",
      "22                 Massachusetts                   NaN\n",
      "23                      Michigan                   NaN\n",
      "24                     Minnesota                   NaN\n",
      "25                   Mississippi                   NaN\n",
      "26                      Missouri                   NaN\n",
      "27                       Montana                   NaN\n",
      "28                      Nebraska                   NaN\n",
      "29                        Nevada                   NaN\n",
      "30                 New Hampshire                   NaN\n",
      "31                    New Jersey                   NaN\n",
      "32                    New Mexico                   NaN\n",
      "33                      New York                   NaN\n",
      "34                North Carolina                   NaN\n",
      "35                  North Dakota                   NaN\n",
      "37                          Ohio                   NaN\n",
      "38                      Oklahoma                   NaN\n",
      "39                        Oregon                   NaN\n",
      "40                  Pennsylvania                   NaN\n",
      "42                  Rhode Island                   NaN\n",
      "43                South Carolina                   NaN\n",
      "45                     Tennessee                   NaN\n",
      "46                         Texas                   NaN\n",
      "48                          Utah                   NaN\n",
      "49                       Vermont                   NaN\n",
      "51                    Washington                   NaN\n",
      "52              Washington, D.C.                   NaN\n",
      "53                 West Virginia                   NaN\n",
      "54                     Wisconsin                   NaN\n",
      "55                       Wyoming                   NaN\n"
     ]
    }
   ],
   "source": [
    "state_stats = us_states_df.groupby('state').agg({\n",
    "    'deaths': lambda x: x.iloc[-1] - x.iloc[0],  # Total deaths in period\n",
    "    'population': 'mean'  # Average population\n",
    "}).reset_index()\n",
    "\n",
    "state_stats['per_capita_mortality'] = state_stats['deaths'] / state_stats['population']\n",
    "state_rankings = state_stats.sort_values('per_capita_mortality', ascending=False)\n",
    "print(state_rankings[['state', 'per_capita_mortality']])"
   ]
  },
  {
   "cell_type": "raw",
   "id": "610d5385-ea88-4880-be3b-2271f6601930",
   "metadata": {},
   "source": [
    "The Per-capita Mortality Calculation (state_stats aggregation) needs to group by state while performing calculations across the entire time span. The distributed processing can start by achieving parallelism through state assignment yet requires complete results combination across all time intervals per state. The distribution of data between workers creates communication overhead that potentially exceeds the advantages of parallelization for the 50 states in the United States making distribution less effective for this situation."
   ]
  },
  {
   "cell_type": "code",
   "execution_count": 5,
   "id": "e7bbd743-8dbe-414a-b80d-cb2069227ac5",
   "metadata": {},
   "outputs": [
    {
     "name": "stdout",
     "output_type": "stream",
     "text": [
      "date                          2020-01-31  2020-02-29  2020-03-31  2020-04-30  \\\n",
      "state                                                                          \n",
      "Alabama                              NaN         NaN         NaN    4.261796   \n",
      "Alaska                               NaN         NaN         NaN         NaN   \n",
      "American Samoa                       NaN         NaN         NaN         NaN   \n",
      "Arizona                              NaN         NaN         NaN         NaN   \n",
      "Arkansas                             NaN         NaN         NaN    1.938426   \n",
      "California                           NaN         NaN         NaN    4.498330   \n",
      "Colorado                             NaN         NaN         NaN    5.936824   \n",
      "Connecticut                          NaN         NaN         NaN    8.936205   \n",
      "Delaware                             NaN         NaN         NaN    3.229501   \n",
      "Florida                              NaN         NaN         NaN    4.481267   \n",
      "Georgia                              NaN         NaN         NaN    4.512543   \n",
      "Guam                                 NaN         NaN         NaN    0.000000   \n",
      "Hawaii                               NaN         NaN         NaN         NaN   \n",
      "Idaho                                NaN         NaN         NaN    3.878327   \n",
      "Illinois                             NaN         NaN         NaN    4.816918   \n",
      "Indiana                              NaN         NaN         NaN    6.036666   \n",
      "Iowa                                 NaN         NaN         NaN    2.319588   \n",
      "Kansas                               NaN         NaN         NaN    3.147506   \n",
      "Kentucky                             NaN         NaN         NaN    5.728230   \n",
      "Louisiana                            NaN         NaN         NaN    7.364323   \n",
      "Maine                                NaN         NaN         NaN    6.125166   \n",
      "Maryland                             NaN         NaN         NaN         NaN   \n",
      "Massachusetts                        NaN         NaN         NaN    6.315751   \n",
      "Michigan                             NaN         NaN         NaN   10.713843   \n",
      "Minnesota                            NaN         NaN         NaN         NaN   \n",
      "Mississippi                          NaN         NaN         NaN    4.162313   \n",
      "Missouri                             NaN         NaN         NaN    5.199799   \n",
      "Montana                              NaN         NaN         NaN         NaN   \n",
      "Nebraska                             NaN         NaN         NaN         NaN   \n",
      "Nevada                               NaN         NaN         NaN    5.324675   \n",
      "New Hampshire                        NaN         NaN         NaN    3.782794   \n",
      "New Jersey                           NaN         NaN         NaN    6.811087   \n",
      "New Mexico                           NaN         NaN         NaN    3.717994   \n",
      "New York                             NaN         NaN         NaN    6.734423   \n",
      "North Carolina                       NaN         NaN         NaN    4.122326   \n",
      "North Dakota                         NaN         NaN         NaN         NaN   \n",
      "Northern Mariana Islands             NaN         NaN         NaN    0.000000   \n",
      "Ohio                                 NaN         NaN         NaN    5.878553   \n",
      "Oklahoma                             NaN         NaN         NaN    6.657468   \n",
      "Oregon                               NaN         NaN         NaN    4.735062   \n",
      "Pennsylvania                         NaN         NaN         NaN    5.550828   \n",
      "Puerto Rico                          NaN         NaN         NaN    7.629870   \n",
      "Rhode Island                         NaN         NaN         NaN         NaN   \n",
      "South Carolina                       NaN         NaN         NaN    4.539775   \n",
      "South Dakota                         NaN         NaN         NaN         NaN   \n",
      "Tennessee                            NaN         NaN         NaN    2.225693   \n",
      "Texas                                NaN         NaN         NaN    2.923190   \n",
      "United States Virgin Islands         NaN         NaN         NaN   20.000000   \n",
      "Utah                                 NaN         NaN         NaN    1.065574   \n",
      "Vermont                              NaN         NaN         NaN    7.513417   \n",
      "Virginia                             NaN         NaN    0.868726    3.718145   \n",
      "Washington                           NaN         NaN    3.935233    6.605625   \n",
      "Washington, D.C.                     NaN         NaN         NaN    5.699759   \n",
      "West Virginia                        NaN         NaN         NaN         NaN   \n",
      "Wisconsin                            NaN         NaN         NaN    5.505279   \n",
      "Wyoming                              NaN         NaN         NaN         NaN   \n",
      "\n",
      "date                          2020-05-31  2020-06-30  2020-07-31  \n",
      "state                                                             \n",
      "Alabama                         3.251807    1.544558    0.701262  \n",
      "Alaska                         -0.961538    0.305810    1.503759  \n",
      "American Samoa                       NaN         NaN         NaN  \n",
      "Arizona                              NaN         NaN    0.635851  \n",
      "Arkansas                        1.842949    1.086181    0.447316  \n",
      "California                      3.415785    1.611162    1.215470  \n",
      "Colorado                        5.898452    3.790230    0.386100  \n",
      "Connecticut                    12.156328   10.028011    7.586207  \n",
      "Delaware                        4.570545    7.700710    0.485437  \n",
      "Florida                         5.322588    1.093755    0.440239  \n",
      "Georgia                         5.372132    2.529392    0.292579  \n",
      "Guam                            0.000000    0.000000    0.000000  \n",
      "Hawaii                               NaN         NaN         NaN  \n",
      "Idaho                           2.261905    0.304414    0.079808  \n",
      "Illinois                        4.600747    6.807008    2.130945  \n",
      "Indiana                         6.406855    5.769343         NaN  \n",
      "Iowa                            3.127130    1.756242    0.210305  \n",
      "Kansas                          1.491987    1.277333    0.538213  \n",
      "Kentucky                        3.765690    2.430331    1.355014  \n",
      "Louisiana                       6.824926    1.757548    0.990491  \n",
      "Maine                           2.833333    1.773836    3.305785  \n",
      "Maryland                        4.302295    4.107926    2.217036  \n",
      "Massachusetts                   9.651698   10.327629   12.274368  \n",
      "Michigan                       11.049046    5.161928    1.079914  \n",
      "Minnesota                       3.515317    3.459862    1.830986  \n",
      "Mississippi                     5.465074    2.905358    0.966667  \n",
      "Missouri                        9.836449    3.569202    0.728960  \n",
      "Montana                         1.612903    1.116071    0.510204  \n",
      "Nebraska                        1.092128    2.014218    1.275917  \n",
      "Nevada                          5.174949    0.869214    0.693398  \n",
      "New Hampshire                   6.922769   11.150442    6.666667  \n",
      "New Jersey                     10.837567   27.706713    9.023066  \n",
      "New Mexico                      5.446470    3.162853    1.746725  \n",
      "New York                        7.073368    7.625651    1.245085  \n",
      "North Carolina                  2.882396    1.296126    0.355487  \n",
      "North Dakota                    2.585034    1.892744    5.472637  \n",
      "Northern Mariana Islands        0.000000    0.000000    0.000000  \n",
      "Ohio                            6.875373    4.156912    0.816612  \n",
      "Oklahoma                        3.770848    0.737853    0.495595  \n",
      "Oregon                          2.944712    1.261179    0.538876  \n",
      "Pennsylvania                   10.944712    6.154518    3.981623  \n",
      "Puerto Rico                     1.913206    0.550358    0.527704  \n",
      "Rhode Island                    9.077634   85.714286    2.898551  \n",
      "South Carolina                  4.247724    0.985526    0.779446  \n",
      "South Dakota                    1.661264    1.676301    1.687764  \n",
      "Tennessee                       1.444846    1.194123    0.604971  \n",
      "Texas                           2.425514    0.789605    0.574015  \n",
      "United States Virgin Islands   66.666667    0.000000    0.000000  \n",
      "Utah                            1.259748    0.388192    0.491950  \n",
      "Vermont                         5.154639    0.456621    0.000000  \n",
      "Virginia                        2.865402    2.137369    2.632613  \n",
      "Washington                      3.676211    1.674585    0.907965  \n",
      "Washington, D.C.                5.672218    5.646259    5.128205  \n",
      "West Virginia                   3.318078    2.029312    0.303030  \n",
      "Wisconsin                       2.404539    1.852750    0.397614  \n",
      "Wyoming                         2.616279    0.519931    0.000000  \n"
     ]
    },
    {
     "name": "stderr",
     "output_type": "stream",
     "text": [
      "C:\\Users\\91849\\AppData\\Local\\Temp\\ipykernel_14140\\3860407692.py:1: FutureWarning: 'M' is deprecated and will be removed in a future version, please use 'ME' instead.\n",
      "  monthly_data = us_states_df.set_index('date').groupby('state').resample('M').agg({\n"
     ]
    }
   ],
   "source": [
    "monthly_data = us_states_df.set_index('date').groupby('state').resample('M').agg({\n",
    "    'cases': lambda x: x.iloc[-1] - x.iloc[0],  # New cases in month\n",
    "    'deaths': lambda x: x.iloc[-1] - x.iloc[0]  # New deaths in month\n",
    "}).reset_index()\n",
    "monthly_data['CFR'] = (monthly_data['deaths'] / monthly_data['cases'] * 100)\n",
    "cfr_matrix = monthly_data.pivot(index='state', columns='date', values='CFR')\n",
    "print(cfr_matrix)"
   ]
  },
  {
   "cell_type": "raw",
   "id": "d45e056a-64b2-4cbf-b3fe-de571f09f96d",
   "metadata": {},
   "source": [
    "A similar process involving monthly aggregation unfolds for monthly CFR calculations in the same manner as the mortality calculations. The division into state groups can be performed in parallel yet monthly resampling requires structured data sequences inside these state divisions. The process of distributing proper ordering and results combination to achieve high efficiency faces uncertain costs that seem to outweigh the benefits because state-level data is not extensive."
   ]
  },
  {
   "cell_type": "code",
   "execution_count": 6,
   "id": "be46ac2f-9a87-4725-b84f-4683ad347615",
   "metadata": {},
   "outputs": [
    {
     "name": "stdout",
     "output_type": "stream",
     "text": [
      "state\n",
      "Rhode Island                    159.452386\n",
      "United States Virgin Islands    113.333333\n",
      "New Jersey                       39.579273\n",
      "Missouri                         13.744138\n",
      "Pennsylvania                     12.356973\n",
      "New Hampshire                    11.851424\n",
      "Delaware                         11.686482\n",
      "Michigan                         10.304336\n",
      "Washington                        8.368051\n",
      "Connecticut                       7.790244\n",
      "Vermont                           7.513417\n",
      "New York                          7.271794\n",
      "Puerto Rico                       7.102166\n",
      "Illinois                          7.098495\n",
      "Ohio                              7.055580\n",
      "Louisiana                         6.373832\n",
      "Oklahoma                          6.161873\n",
      "Massachusetts                     5.958617\n",
      "Georgia                           5.939142\n",
      "Maine                             5.883280\n",
      "Mississippi                       5.801169\n",
      "Florida                           5.723670\n",
      "Colorado                          5.550723\n",
      "New Mexico                        5.428222\n",
      "Wisconsin                         5.107665\n",
      "Virginia                          4.925439\n",
      "Nevada                            4.631278\n",
      "Kentucky                          4.373217\n",
      "North Dakota                      4.272182\n",
      "Oregon                            4.196186\n",
      "Idaho                             3.798519\n",
      "North Carolina                    3.766839\n",
      "South Carolina                    3.760329\n",
      "Iowa                              3.724368\n",
      "Alabama                           3.560534\n",
      "California                        3.282860\n",
      "West Virginia                     3.015048\n",
      "Wyoming                           2.616279\n",
      "Kansas                            2.609293\n",
      "Alaska                            2.465298\n",
      "Texas                             2.349176\n",
      "Maryland                          2.085258\n",
      "Minnesota                         1.684331\n",
      "Nebraska                          1.660391\n",
      "Tennessee                         1.620723\n",
      "Arkansas                          1.491110\n",
      "Utah                              1.169487\n",
      "Montana                           1.102699\n",
      "Indiana                           1.007701\n",
      "Washington, D.C.                  0.571554\n",
      "South Dakota                      0.026500\n",
      "Hawaii                            0.000000\n",
      "Guam                              0.000000\n",
      "Arizona                           0.000000\n",
      "American Samoa                    0.000000\n",
      "Northern Mariana Islands          0.000000\n",
      "dtype: float64\n"
     ]
    }
   ],
   "source": [
    "cfr_changes = cfr_matrix.diff(axis=1)\n",
    "\n",
    "# Aggregate changes (sum of absolute changes)\n",
    "total_cfr_change = cfr_changes.abs().sum(axis=1)\n",
    "\n",
    "# Rank states by total CFR change\n",
    "cfr_change_rankings = total_cfr_change.sort_values(ascending=False)\n",
    "print(cfr_change_rankings)"
   ]
  },
  {
   "cell_type": "raw",
   "id": "eb88f2df-8ad4-4f4a-a506-6a1d6d804e00",
   "metadata": {},
   "source": [
    "The CFR Change Analysis (matrix operations) demands full state data visibility across all months because it includes the pivot operation and monthly alteration assessments. The operations utilize small matrix sizes of 50 states by 14 months while requiring correct temporal relationships between states. The distribution costs associated with executing these calculations are expected to surpass any potential efficiency benefits which makes executing them on one machine more suitable."
   ]
  },
  {
   "cell_type": "code",
   "execution_count": null,
   "id": "68a71812-7da6-4828-b426-7032f19b0701",
   "metadata": {},
   "outputs": [],
   "source": []
  },
  {
   "cell_type": "code",
   "execution_count": null,
   "id": "f9524254-2dac-4031-9c46-b7555f5e12b6",
   "metadata": {},
   "outputs": [],
   "source": []
  }
 ],
 "metadata": {
  "kernelspec": {
   "display_name": "Python 3 (ipykernel)",
   "language": "python",
   "name": "python3"
  },
  "language_info": {
   "codemirror_mode": {
    "name": "ipython",
    "version": 3
   },
   "file_extension": ".py",
   "mimetype": "text/x-python",
   "name": "python",
   "nbconvert_exporter": "python",
   "pygments_lexer": "ipython3",
   "version": "3.12.3"
  }
 },
 "nbformat": 4,
 "nbformat_minor": 5
}
